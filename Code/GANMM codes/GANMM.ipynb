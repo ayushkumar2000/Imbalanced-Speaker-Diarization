{
  "nbformat": 4,
  "nbformat_minor": 0,
  "metadata": {
    "colab": {
      "name": "GANMM.ipynb",
      "provenance": [],
      "collapsed_sections": []
    },
    "kernelspec": {
      "display_name": "Python 3",
      "name": "python3"
    },
    "language_info": {
      "name": "python"
    }
  },
  "cells": [
    {
      "cell_type": "markdown",
      "metadata": {
        "id": "aEn_70zu2RCD"
      },
      "source": [
        "Install Required Libraries \n"
      ]
    },
    {
      "cell_type": "code",
      "metadata": {
        "id": "bsAgPbBa2J-u"
      },
      "source": [
        "!pip install tensorflow==1.13.1"
      ],
      "execution_count": null,
      "outputs": []
    },
    {
      "cell_type": "code",
      "metadata": {
        "id": "n-Il7mswqHUW"
      },
      "source": [
        "!pip install spectralcluster\n",
        "from spectralcluster import SpectralClusterer"
      ],
      "execution_count": null,
      "outputs": []
    },
    {
      "cell_type": "code",
      "metadata": {
        "id": "G1HudmXiMTUA"
      },
      "source": [
        "import numpy as np"
      ],
      "execution_count": 3,
      "outputs": []
    },
    {
      "cell_type": "code",
      "metadata": {
        "id": "3aTIYTh45V9W"
      },
      "source": [
        "Mounting Drive(Kindly change locations according to file locations)"
      ],
      "execution_count": null,
      "outputs": []
    },
    {
      "cell_type": "code",
      "metadata": {
        "colab": {
          "base_uri": "https://localhost:8080/"
        },
        "id": "XZJLxYOXhNwH",
        "outputId": "ad57fcc8-3a05-4344-ee14-d3c65be45fce"
      },
      "source": [
        "from google.colab import drive\n",
        "drive.mount('/content/gdrive',force_remount = True)"
      ],
      "execution_count": 1,
      "outputs": [
        {
          "output_type": "stream",
          "text": [
            "Mounted at /content/gdrive\n"
          ],
          "name": "stdout"
        }
      ]
    },
    {
      "cell_type": "markdown",
      "metadata": {
        "id": "SjNdDFN453JO"
      },
      "source": [
        "Making test data batch size equal to that required(Batchsize = 8 has been used)\n"
      ]
    },
    {
      "cell_type": "code",
      "metadata": {
        "id": "ZsYo5bJ-y5IP"
      },
      "source": [
        "X_test = np.load('/content/gdrive/MyDrive/ML Datasets/TS3010c.npy')\n",
        "test_len = len(X_test)"
      ],
      "execution_count": 65,
      "outputs": []
    },
    {
      "cell_type": "code",
      "metadata": {
        "colab": {
          "base_uri": "https://localhost:8080/"
        },
        "id": "UJAY1tcyl7WJ",
        "outputId": "d10ccc80-d9ed-459d-d3a0-0c331936e1b5"
      },
      "source": [
        "X_test.shape"
      ],
      "execution_count": 66,
      "outputs": [
        {
          "output_type": "execute_result",
          "data": {
            "text/plain": [
              "(1136, 256)"
            ]
          },
          "metadata": {
            "tags": []
          },
          "execution_count": 66
        }
      ]
    },
    {
      "cell_type": "code",
      "metadata": {
        "id": "gLNQlY7G05P5"
      },
      "source": [
        "val = int(np.ceil((len(X_test)/8))*8 - len(X_test))\n",
        "X_test = np.append(X_test,X_test[len(X_test)-val:len(X_test)],axis = 0)"
      ],
      "execution_count": 67,
      "outputs": []
    },
    {
      "cell_type": "code",
      "metadata": {
        "id": "iUMK5H112E2Z"
      },
      "source": [
        "np.save('/content/gdrive/MyDrive/ML Datasets/test_1.npy',X_test)"
      ],
      "execution_count": 75,
      "outputs": []
    },
    {
      "cell_type": "code",
      "metadata": {
        "id": "Ypvw2JhawqQQ"
      },
      "source": [
        "%matplotlib inline"
      ],
      "execution_count": 8,
      "outputs": []
    },
    {
      "cell_type": "markdown",
      "metadata": {
        "id": "rOlYlICs-op1"
      },
      "source": [
        "Running GANMM to get the 1.Sampled data 2. Clusters"
      ]
    },
    {
      "cell_type": "code",
      "metadata": {
        "id": "Wn0dqQcbBboT"
      },
      "source": [
        "#Please change the file address in tflib/sae_minist.py before executing"
      ],
      "execution_count": null,
      "outputs": []
    },
    {
      "cell_type": "code",
      "metadata": {
        "id": "N03iWIV1wCWC"
      },
      "source": [
        "%run \"/content/gdrive/MyDrive/ML Datasets/GANMM-master/main.py\" sae_mnist"
      ],
      "execution_count": null,
      "outputs": []
    },
    {
      "cell_type": "markdown",
      "metadata": {
        "id": "PtdtwzqFnCyJ"
      },
      "source": [
        "Augmenting fake data to balance out clusters"
      ]
    },
    {
      "cell_type": "code",
      "metadata": {
        "id": "pjQ_iX-sh8uM"
      },
      "source": [
        "fake1 = np.load('/content/gdrive/MyDrive/ML Datasets/fakeData.npy')"
      ],
      "execution_count": 46,
      "outputs": []
    },
    {
      "cell_type": "code",
      "metadata": {
        "colab": {
          "base_uri": "https://localhost:8080/"
        },
        "id": "qezmJbcdiP31",
        "outputId": "cb27fe4c-6f7d-4d78-b0f6-41f817d81646"
      },
      "source": [
        "fake1.shape"
      ],
      "execution_count": 47,
      "outputs": [
        {
          "output_type": "execute_result",
          "data": {
            "text/plain": [
              "(4, 248, 256)"
            ]
          },
          "metadata": {
            "tags": []
          },
          "execution_count": 47
        }
      ]
    },
    {
      "cell_type": "code",
      "metadata": {
        "id": "zGRRdWBWnHwB"
      },
      "source": [
        "Y_pred = np.load('/content/gdrive/MyDrive/ML Datasets/GANMM-master/GanmmPred.npy')"
      ],
      "execution_count": 48,
      "outputs": []
    },
    {
      "cell_type": "code",
      "metadata": {
        "colab": {
          "base_uri": "https://localhost:8080/"
        },
        "id": "XxLrzoUQnVqr",
        "outputId": "e2c007bc-203c-4de1-992a-c831976acaa2"
      },
      "source": [
        "Y_pred.shape"
      ],
      "execution_count": 49,
      "outputs": [
        {
          "output_type": "execute_result",
          "data": {
            "text/plain": [
              "(1136,)"
            ]
          },
          "metadata": {
            "tags": []
          },
          "execution_count": 49
        }
      ]
    },
    {
      "cell_type": "markdown",
      "metadata": {
        "id": "s235pYlF9n1V"
      },
      "source": [
        "Deciding How much to add data"
      ]
    },
    {
      "cell_type": "code",
      "metadata": {
        "colab": {
          "base_uri": "https://localhost:8080/"
        },
        "id": "aJEIVM8JmunD",
        "outputId": "aed638e5-7422-4529-bc9f-12644a7a2b6d"
      },
      "source": [
        "(unique, counts) = np.unique(Y_pred, return_counts=True)\n",
        "frequencies = np.asarray((unique, counts)).T\n",
        "frequencies"
      ],
      "execution_count": 68,
      "outputs": [
        {
          "output_type": "execute_result",
          "data": {
            "text/plain": [
              "array([[  0, 214],\n",
              "       [  1, 353],\n",
              "       [  2, 261],\n",
              "       [  3, 308]])"
            ]
          },
          "metadata": {
            "tags": []
          },
          "execution_count": 68
        }
      ]
    },
    {
      "cell_type": "code",
      "metadata": {
        "id": "7Rnu8075QRXH"
      },
      "source": [
        "n_cluster = 4"
      ],
      "execution_count": 69,
      "outputs": []
    },
    {
      "cell_type": "code",
      "metadata": {
        "id": "En1IbMEC9m2i"
      },
      "source": [
        "add_num = []\n",
        "for i in range(0,n_cluster):\n",
        "  add_num.append(0)\n",
        "avg = int(len(X_test)/n_cluster )\n",
        "for i in range(0,n_cluster):\n",
        "  if(avg-frequencies[i][1] > 0):\n",
        "    add_num[i] = min(max(avg-frequencies[i][1],0),150)\n",
        "  "
      ],
      "execution_count": 70,
      "outputs": []
    },
    {
      "cell_type": "code",
      "metadata": {
        "id": "YGe4ydorDxHU",
        "colab": {
          "base_uri": "https://localhost:8080/"
        },
        "outputId": "14f06f28-849e-4b03-e49a-7b845a617f45"
      },
      "source": [
        "len(X_test)"
      ],
      "execution_count": 71,
      "outputs": [
        {
          "output_type": "execute_result",
          "data": {
            "text/plain": [
              "1136"
            ]
          },
          "metadata": {
            "tags": []
          },
          "execution_count": 71
        }
      ]
    },
    {
      "cell_type": "markdown",
      "metadata": {
        "id": "qXf5x9xU-2GR"
      },
      "source": [
        "Finally adding this to X_test and saving"
      ]
    },
    {
      "cell_type": "code",
      "metadata": {
        "id": "m43VW2NFDro5",
        "colab": {
          "base_uri": "https://localhost:8080/"
        },
        "outputId": "e7dd46ec-5591-4acd-ee47-b2bde38343d7"
      },
      "source": [
        "add_num #this shows the ammount of data augmeneted to each cluster"
      ],
      "execution_count": 72,
      "outputs": [
        {
          "output_type": "execute_result",
          "data": {
            "text/plain": [
              "[70, 0, 23, 0]"
            ]
          },
          "metadata": {
            "tags": []
          },
          "execution_count": 72
        }
      ]
    },
    {
      "cell_type": "code",
      "metadata": {
        "id": "-_JKFHqe-1AH"
      },
      "source": [
        "for i in range(0,n_cluster):\n",
        "  if(add_num[i]>0):\n",
        "    X_test = np.append(X_test,fake1[i][:add_num[i]],axis = 0)"
      ],
      "execution_count": 73,
      "outputs": []
    },
    {
      "cell_type": "markdown",
      "metadata": {
        "id": "VKDlNaDcB39h"
      },
      "source": [
        "Using Spectral Clustering On this data(X_test)"
      ]
    },
    {
      "cell_type": "code",
      "metadata": {
        "id": "U2J9HaNcoUTy",
        "colab": {
          "base_uri": "https://localhost:8080/"
        },
        "outputId": "42f87732-a1d4-479c-9ef1-6fbb8776685a"
      },
      "source": [
        "X_test.shape"
      ],
      "execution_count": 63,
      "outputs": [
        {
          "output_type": "execute_result",
          "data": {
            "text/plain": [
              "(1368, 256)"
            ]
          },
          "metadata": {
            "tags": []
          },
          "execution_count": 63
        }
      ]
    },
    {
      "cell_type": "code",
      "metadata": {
        "id": "HxvK5Zn9AOnu"
      },
      "source": [
        "#After this step we run spectral clustering in balanced dataset"
      ],
      "execution_count": null,
      "outputs": []
    },
    {
      "cell_type": "code",
      "metadata": {
        "id": "zHbPNQTqqSVY"
      },
      "source": [
        "clusterer = SpectralClusterer(\n",
        "                  min_clusters=4,\n",
        "                  max_clusters=4,\n",
        "                  p_percentile=0.90,\n",
        "                  gaussian_blur_sigma=0)\n",
        "curr_labels = clusterer.predict(X_test)\n",
        "np.save('/content/gdrive/MyDrive/Advanced ML project 2/GANMM preds/TS3010c.npy',curr_labels[:test_len])"
      ],
      "execution_count": 64,
      "outputs": []
    }
  ]
}