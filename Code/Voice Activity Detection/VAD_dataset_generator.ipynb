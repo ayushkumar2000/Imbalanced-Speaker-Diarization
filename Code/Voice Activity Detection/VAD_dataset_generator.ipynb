{
 "cells": [
  {
   "cell_type": "markdown",
   "metadata": {},
   "source": [
    "# Voice Activity Detection Data Generation\n",
    "This jupyter notebook takes audio files and there corresponding transcripts of the AMI corpus to prepare the Mel Spectrogram features of the parts in which a speaker is speaking and those in which there is scilence. These two categories of Mel Spectrogram features are further used as training and testing data for voice activity detection in a Deep Nural Network."
   ]
  },
  {
   "cell_type": "code",
   "execution_count": 1,
   "metadata": {},
   "outputs": [],
   "source": [
    "import os        #Importing essential libraries\n",
    "import sys\n",
    "import time\n",
    "import glob\n",
    "import librosa\n",
    "import numpy as np\n",
    "import xml.etree.ElementTree as ET"
   ]
  },
  {
   "cell_type": "code",
   "execution_count": 2,
   "metadata": {},
   "outputs": [],
   "source": [
    "def print_progress(done,total):          #For displaying the progress bar while preprocessing audio files\n",
    "    x = int(done*50.0/total)\n",
    "    sys.stdout.write('['+str('='*x)+'>'+str('-'*(50-x))+']  '+str(done)+'/'+str(total)+'\\r')\n",
    "    sys.stdout.flush()\n",
    "\n",
    "def progress(entity):\n",
    "    print_progress(0,len(entity))\n",
    "    i = 0\n",
    "    for ent in entity:\n",
    "        yield ent\n",
    "        i+=1\n",
    "        print_progress(i,len(entity))\n",
    "    sys.stdout.write(\"\\n\")\n",
    "    sys.stdout.flush()"
   ]
  },
  {
   "cell_type": "code",
   "execution_count": 3,
   "metadata": {},
   "outputs": [],
   "source": [
    "def GetAudioFiles():                    #Returns a dictionary of all the audio file names available with\n",
    "    files = {}                          #their corresponding address\n",
    "    filenames = glob.glob('./amicorpus/*')\n",
    "    for f in filenames:\n",
    "        name = f.split('/')[-1]\n",
    "        f2 = glob.glob(f+'/audio/*')[0]\n",
    "        files[name] = f2\n",
    "    return files"
   ]
  },
  {
   "cell_type": "code",
   "execution_count": 4,
   "metadata": {},
   "outputs": [],
   "source": [
    "#Returns a dictionary of Speaker IDs with corresponding xml transcript for each audio.\n",
    "\n",
    "def MatchSpeakers(files):               \n",
    "    speakerids = {}                     \n",
    "    root = ET.parse('./ami_public_manual_1.6.2/corpusResources/meetings.xml').getroot()\n",
    "    for child in root:\n",
    "        meetingID = child.get('observation')\n",
    "        if meetingID in files:\n",
    "            for type_tag in child.findall('speaker'):\n",
    "                speakerID = type_tag.get('global_name')\n",
    "                speaker_code = type_tag.get('nxt_agent')\n",
    "                meeting_file = meetingID+'.'+speaker_code+'.segments.xml'\n",
    "                speakerids[meeting_file] = speakerID\n",
    "    return speakerids"
   ]
  },
  {
   "cell_type": "code",
   "execution_count": 5,
   "metadata": {},
   "outputs": [],
   "source": [
    "#Generates Mel Spectrogram fectures of 'audiolen' timelength within the 'start' and 'end' time and adds \n",
    "#labels '1' and '0' respectively based on whether someone was speaking at that time or not. \n",
    "\n",
    "def mel_constructor(mel_collection,labels,speach,start,end,audiolen,file_loc):\n",
    "    partitions = int((end-start-audiolen)/audiolen)\n",
    "    for i in range(partitions):\n",
    "        y, sr = librosa.load(file_loc,sr = 22050,offset = start+i*audiolen, duration = audiolen)\n",
    "        mel = librosa.feature.melspectrogram(y=y,sr=sr)\n",
    "        mel = mel.T\n",
    "        mel_collection.append(mel)\n",
    "        labels.append(speach)"
   ]
  },
  {
   "cell_type": "code",
   "execution_count": 6,
   "metadata": {
    "scrolled": false
   },
   "outputs": [
    {
     "name": "stdout",
     "output_type": "stream",
     "text": [
      "Processing the following audio files:\n",
      "TS3004c\n",
      "IS1004c\n",
      "IB4001\n",
      "TS3008c\n",
      "IS1007c\n",
      "TS3007c\n",
      "IB4003\n",
      "TS3003c\n",
      "IB4004\n",
      "IS1002c\n",
      "TS3012c\n",
      "IB4005\n",
      "IS1003c\n",
      "IS1001c\n",
      "TS3011c\n",
      "IS1006c\n",
      "IS1008c\n",
      "IB4002\n",
      "IS1005c\n",
      "TS3005c\n",
      "TS3009c\n",
      "IS1009c\n",
      "TS3006c\n",
      "TS3010c\n",
      "IB4010\n",
      "IS1000c\n",
      "IB4011\n"
     ]
    }
   ],
   "source": [
    "files = GetAudioFiles()\n",
    "print('Processing the following audio files:')   #list of audio files available\n",
    "for file in files:\n",
    "    print(file)\n",
    "\n",
    "speakerids = MatchSpeakers(files)"
   ]
  },
  {
   "cell_type": "code",
   "execution_count": 7,
   "metadata": {},
   "outputs": [],
   "source": [
    "#For the given list of files, it uses the above defined functions to get the Mel features and the\n",
    "#corresponding speaker labels and timestamps for each audio file individually to distiguish the\n",
    "#speach and non-speach segments and collect the corresponding labeled Mel features\n",
    "\n",
    "def mel_spectrum_generator(files,accept):\n",
    "    mel_collection = []\n",
    "    labels = []\n",
    "    audiolen = 1       ##seconds\n",
    "    time_limit = 300        ##seconds for each audio clip\n",
    "\n",
    "    for filename in files:\n",
    "\n",
    "        if filename not in accept:\n",
    "            continue\n",
    "\n",
    "        print('Proccessing file: '+filename)\n",
    "        speaker = 0\n",
    "        \n",
    "        segments = []\n",
    "\n",
    "        for fileaddr in speakerids:\n",
    "            if fileaddr[:-15]==filename:\n",
    "                speakerid = speakerids[fileaddr]\n",
    "                speaker = speaker+1\n",
    "                root = ET.parse('./ami_public_manual_1.6.2/segments/'+fileaddr).getroot()\n",
    "                for type_tag in root.findall('segment'):\n",
    "                    start = float(type_tag.get('transcriber_start'))\n",
    "                    end = float(type_tag.get('transcriber_end'))\n",
    "                    if start>=time_limit: continue\n",
    "                    if end>time_limit: end = time_limit\n",
    "                    segments.append([start,end])\n",
    "                    \n",
    "        segments.sort()\n",
    "\n",
    "        last_end = 0\n",
    "        for start,end in progress(segments):\n",
    "            if start>last_end:\n",
    "                mel_constructor(mel_collection,labels,0,last_end,start,audiolen,files[filename])\n",
    "            mel_constructor(mel_collection,labels,1,start,end,audiolen,files[filename])\n",
    "            last_end = end\n",
    "    \n",
    "    return mel_collection,labels"
   ]
  },
  {
   "cell_type": "code",
   "execution_count": 9,
   "metadata": {},
   "outputs": [],
   "source": [
    "training_data = ['TS3004c',\n",
    "                 'IS1004c',\n",
    "                 'IB4001',\n",
    "                 'TS3008c',\n",
    "                 'IS1007c',\n",
    "                 'TS3007c',\n",
    "                 'IB4003',\n",
    "                 'TS3003c',\n",
    "                 'IB4004',\n",
    "                 'IS1002c',\n",
    "                 'TS3012c',\n",
    "                 'IB4005',\n",
    "                 'IS1003c',\n",
    "                 'IS1001c',\n",
    "                 'TS3011c',\n",
    "                 'IS1006c',\n",
    "                 'IS1008c',\n",
    "                 'IB4002',\n",
    "                 'IS1005c',\n",
    "                 'TS3005c',\n",
    "                 'TS3009c',\n",
    "                 'IS1009c',\n",
    "                 'TS3006c',\n",
    "                 'IB4010',]"
   ]
  },
  {
   "cell_type": "code",
   "execution_count": 12,
   "metadata": {
    "scrolled": true
   },
   "outputs": [
    {
     "name": "stdout",
     "output_type": "stream",
     "text": [
      "Proccessing file: TS3004c\n",
      "[==================================================>]  56/56\n",
      "Proccessing file: IS1004c\n",
      "[==================================================>]  57/57\n",
      "Proccessing file: IB4001\n",
      "[==================================================>]  40/40\n",
      "Proccessing file: TS3008c\n",
      "[==================================================>]  31/31\n",
      "Proccessing file: IS1007c\n",
      "[==================================================>]  24/24\n",
      "Proccessing file: TS3007c\n",
      "[==================================================>]  80/80\n",
      "Proccessing file: IB4003\n",
      "[==================================================>]  21/21\n",
      "Proccessing file: TS3003c\n",
      "[==================================================>]  24/24\n",
      "Proccessing file: IB4004\n",
      "[==================================================>]  43/43\n",
      "Proccessing file: IS1002c\n",
      "[==================================================>]  104/104\n",
      "Proccessing file: TS3012c\n",
      "[==================================================>]  93/93\n",
      "Proccessing file: IB4005\n",
      "[==================================================>]  43/43\n",
      "Proccessing file: IS1003c\n",
      "[==================================================>]  55/55\n",
      "Proccessing file: IS1001c\n",
      "[==================================================>]  46/46\n",
      "Proccessing file: TS3011c\n",
      "[==================================================>]  65/65\n",
      "Proccessing file: IS1006c\n",
      "[==================================================>]  36/36\n",
      "Proccessing file: IS1008c\n",
      "[==================================================>]  48/48\n",
      "Proccessing file: IB4002\n",
      "[==================================================>]  110/110\n",
      "Proccessing file: IS1005c\n",
      "[==================================================>]  46/46\n",
      "Proccessing file: TS3005c\n",
      "[==================================================>]  13/13\n",
      "Proccessing file: TS3009c\n",
      "[==================================================>]  74/74\n",
      "Proccessing file: IS1009c\n",
      "[==================================================>]  43/43\n",
      "Proccessing file: TS3006c\n",
      "[==================================================>]  61/61\n",
      "Proccessing file: IB4010\n",
      "[==================================================>]  41/41\n"
     ]
    }
   ],
   "source": [
    "#Get training data\n",
    "vad_mel_collection_train,vad_labels_train = mel_spectrum_generator(files,training_data)\n",
    "np.save('./vad_dataset/vad_mel_collection_train',vad_mel_collection_train)\n",
    "np.save('./vad_dataset/vad_labels_train',vad_labels_train)"
   ]
  },
  {
   "cell_type": "code",
   "execution_count": 11,
   "metadata": {
    "scrolled": false
   },
   "outputs": [
    {
     "name": "stdout",
     "output_type": "stream",
     "text": [
      "Proccessing file: TS3010c\n",
      "[==================================================>]  66/66\n",
      "Proccessing file: IS1000c\n",
      "[==================================================>]  61/61\n",
      "Proccessing file: IB4011\n",
      "[==================================================>]  45/45\n"
     ]
    }
   ],
   "source": [
    "#Get unseen testing data\n",
    "test_data = ['TS3010c','IS1000c','IB4011']\n",
    "for a in test_data:\n",
    "    vad_mel_collection_test,vad_labels_test = mel_spectrum_generator(files,[a])\n",
    "    np.save('./vad_dataset/vad_mel_collection_test'+a,vad_mel_collection_test)\n",
    "    np.save('./vad_dataset/vad_labels_test'+a,vad_labels_test)"
   ]
  },
  {
   "cell_type": "code",
   "execution_count": null,
   "metadata": {},
   "outputs": [],
   "source": []
  }
 ],
 "metadata": {
  "kernelspec": {
   "display_name": "Python 3",
   "language": "python",
   "name": "python3"
  },
  "language_info": {
   "codemirror_mode": {
    "name": "ipython",
    "version": 3
   },
   "file_extension": ".py",
   "mimetype": "text/x-python",
   "name": "python",
   "nbconvert_exporter": "python",
   "pygments_lexer": "ipython3",
   "version": "3.8.5"
  }
 },
 "nbformat": 4,
 "nbformat_minor": 4
}
