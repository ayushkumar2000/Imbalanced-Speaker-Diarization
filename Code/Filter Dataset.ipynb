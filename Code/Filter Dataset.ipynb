{
 "cells": [
  {
   "cell_type": "markdown",
   "metadata": {},
   "source": [
    "# Generating Custom Imbalanced Data\n",
    "Here we will be using the test data collected from 'Data Preprocessing.ipynb' and augment the number of MFCC features of each person to create a custom imbalanced input."
   ]
  },
  {
   "cell_type": "code",
   "execution_count": 2,
   "metadata": {
    "id": "1fae1507"
   },
   "outputs": [],
   "source": [
    "import numpy as np    # Importing essential libraries\n",
    "import random"
   ]
  },
  {
   "cell_type": "code",
   "execution_count": 3,
   "metadata": {
    "id": "49ff0d50"
   },
   "outputs": [],
   "source": [
    "name1 = 'test_IB4011'      # Available files for augmenting and collecting data\n",
    "name2 = 'test_IS1000c'\n",
    "name3 = 'test_TS3010c'\n",
    "name4 = 'train'\n",
    "file = name1\n",
    "speakers = [1,2,3,4]\n",
    "samples = [60,100,150,190]    # Set the samples per person for new data\n",
    "randomize = False             # Option for randomization"
   ]
  },
  {
   "cell_type": "code",
   "execution_count": 4,
   "metadata": {
    "id": "a201d52a"
   },
   "outputs": [],
   "source": [
    "X = np.load('./results/mel_save_'+file+'.npy')\n",
    "Y = np.load('./results/mel_labels_'+file+'.npy')"
   ]
  },
  {
   "cell_type": "code",
   "execution_count": 5,
   "metadata": {
    "id": "898690ce"
   },
   "outputs": [],
   "source": [
    "mel_collection = {}            # Collecting all the MFCC features for each person separately\n",
    "for speaker in speakers:\n",
    "    mel_collection[speaker] = []\n",
    "    \n",
    "for i in range(len(X)):\n",
    "    if Y[i] in speakers:\n",
    "        mel_collection[Y[i]].append(X[i])"
   ]
  },
  {
   "cell_type": "code",
   "execution_count": 6,
   "metadata": {
    "id": "82005d4c"
   },
   "outputs": [],
   "source": [
    "X_custom_test = []\n",
    "Y_custom_test = []\n",
    "custom_timestamps = [] \n",
    "time = 0\n",
    "\n",
    "for i,speaker in enumerate(speakers):          # Sampling MFCC features per person for Augmented Data\n",
    "    mel_count = len(mel_collection[speaker])\n",
    "    if samples[i]>mel_count:\n",
    "        print(\"Error: Larger number of samples specified for speaker \"+str(speaker))\n",
    "        print(\"Number of samples specified : \"+str(samples[i]))\n",
    "        print(\"Number of samples available : \"+str(mel_count))\n",
    "        break\n",
    "    if randomize == True:\n",
    "        indices = random.sample(range(0,mel_count),samples[i])\n",
    "    else:\n",
    "        indices = range(samples[i])\n",
    "    for index in indices:\n",
    "        X_custom_test.append(mel_collection[speaker][index])\n",
    "        Y_custom_test.append(speaker)\n",
    "        custom_timestamps.append([time,time+1])\n",
    "        time+=1"
   ]
  },
  {
   "cell_type": "code",
   "execution_count": 7,
   "metadata": {
    "id": "77c93991"
   },
   "outputs": [],
   "source": [
    "np.save('./custom_tests/mel_save_test_custom_2.npy',X_custom_test)     # Saving the Augmented data created\n",
    "np.save('./custom_tests/mel_labels_test_custom_2.npy',Y_custom_test)\n",
    "np.save('./custom_tests/timestamps_save_custom_2.npy', custom_timestamps)"
   ]
  }
 ],
 "metadata": {
  "colab": {
   "name": "Filter Dataset.ipynb",
   "provenance": []
  },
  "kernelspec": {
   "display_name": "Python 3",
   "language": "python",
   "name": "python3"
  },
  "language_info": {
   "codemirror_mode": {
    "name": "ipython",
    "version": 3
   },
   "file_extension": ".py",
   "mimetype": "text/x-python",
   "name": "python",
   "nbconvert_exporter": "python",
   "pygments_lexer": "ipython3",
   "version": "3.8.5"
  }
 },
 "nbformat": 4,
 "nbformat_minor": 5
}
