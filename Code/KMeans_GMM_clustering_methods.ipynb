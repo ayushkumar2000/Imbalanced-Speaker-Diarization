{
  "nbformat": 4,
  "nbformat_minor": 0,
  "metadata": {
    "kernelspec": {
      "display_name": "Python 3",
      "language": "python",
      "name": "python3"
    },
    "language_info": {
      "codemirror_mode": {
        "name": "ipython",
        "version": 3
      },
      "file_extension": ".py",
      "mimetype": "text/x-python",
      "name": "python",
      "nbconvert_exporter": "python",
      "pygments_lexer": "ipython3",
      "version": "3.8.5"
    },
    "colab": {
      "name": "KMeans_GMM_clustering_methods.ipynb",
      "provenance": [],
      "collapsed_sections": [],
      "toc_visible": true
    },
    "accelerator": "GPU"
  },
  "cells": [
    {
      "cell_type": "markdown",
      "metadata": {
        "id": "IE4mPGVMdg_2"
      },
      "source": [
        "# Using Traditional Clustering Methods on LSTM based model for Speaker Diarization\n",
        "Here we will train a LSTM model on MFCC features collected during data preprocessing. The embeddings that follow shall then be passed onto various traditional clustering algorithms for segregation of speakers. This shall set the benchmarks for our GANMM model implemented in the 'LSTM_GANMM_model.ipynb' file."
      ]
    },
    {
      "cell_type": "code",
      "metadata": {
        "id": "XGcsyioUo2hn"
      },
      "source": [
        "from google.colab import drive\n",
        "drive.mount('/content/drive')"
      ],
      "execution_count": null,
      "outputs": []
    },
    {
      "cell_type": "code",
      "metadata": {
        "id": "rzt-nTJMo_zf"
      },
      "source": [
        "%cd /content/drive/MyDrive/EE698 speaker diarization project"
      ],
      "execution_count": null,
      "outputs": []
    },
    {
      "cell_type": "markdown",
      "metadata": {
        "id": "i3UXV7Due7cy"
      },
      "source": [
        "## Importing the essential Libraries"
      ]
    },
    {
      "cell_type": "code",
      "metadata": {
        "colab": {
          "base_uri": "https://localhost:8080/"
        },
        "id": "T2kBa9kwdkuu",
        "outputId": "7bed9dd4-0d8c-4642-ab89-8f9677fa94d8"
      },
      "source": [
        "!pip3 install spectralcluster\n",
        "!pip install tensorflow_addons "
      ],
      "execution_count": null,
      "outputs": [
        {
          "output_type": "stream",
          "text": [
            "Collecting spectralcluster\n",
            "  Downloading https://files.pythonhosted.org/packages/24/a7/12c567ed32165ccaa0a40bd55384958751a2049891c109fb9a1d3996e7a0/spectralcluster-0.1.0-py3-none-any.whl\n",
            "Installing collected packages: spectralcluster\n",
            "Successfully installed spectralcluster-0.1.0\n",
            "Collecting tensorflow_addons\n",
            "\u001b[?25l  Downloading https://files.pythonhosted.org/packages/74/e3/56d2fe76f0bb7c88ed9b2a6a557e25e83e252aec08f13de34369cd850a0b/tensorflow_addons-0.12.1-cp37-cp37m-manylinux2010_x86_64.whl (703kB)\n",
            "\u001b[K     |████████████████████████████████| 706kB 7.6MB/s \n",
            "\u001b[?25hRequirement already satisfied: typeguard>=2.7 in /usr/local/lib/python3.7/dist-packages (from tensorflow_addons) (2.7.1)\n",
            "Installing collected packages: tensorflow-addons\n",
            "Successfully installed tensorflow-addons-0.12.1\n"
          ],
          "name": "stdout"
        }
      ]
    },
    {
      "cell_type": "code",
      "metadata": {
        "id": "rVHa7rFzonby"
      },
      "source": [
        "import io\n",
        "import numpy as np\n",
        "import tensorflow as tf\n",
        "import tensorflow_addons as tfa\n",
        "from sklearn.model_selection import train_test_split\n",
        "from tensorflow import keras\n",
        "from tensorflow.keras import layers\n",
        "from matplotlib import pyplot as plt"
      ],
      "execution_count": null,
      "outputs": []
    },
    {
      "cell_type": "code",
      "metadata": {
        "colab": {
          "base_uri": "https://localhost:8080/"
        },
        "id": "fgMME1nqc1dw",
        "outputId": "3acd3dd9-5185-4c51-eec0-5f4fb5cbcf9c"
      },
      "source": [
        "%pylab inline\n"
      ],
      "execution_count": null,
      "outputs": [
        {
          "output_type": "stream",
          "text": [
            "Populating the interactive namespace from numpy and matplotlib\n"
          ],
          "name": "stdout"
        }
      ]
    },
    {
      "cell_type": "code",
      "metadata": {
        "colab": {
          "base_uri": "https://localhost:8080/",
          "height": 734
        },
        "id": "sUekJCA-hWhV",
        "outputId": "df4b7e6c-1a7e-4fa2-bbbb-79998b56c052"
      },
      "source": [
        "!pip install pyannote.metrics"
      ],
      "execution_count": null,
      "outputs": [
        {
          "output_type": "stream",
          "text": [
            "Collecting pyannote.metrics\n",
            "\u001b[?25l  Downloading https://files.pythonhosted.org/packages/76/44/39e79594474eb99a23b26cb0104d78f6f20e4f8de3a26d67f24d2ea9ef28/pyannote.metrics-3.0.1-py3-none-any.whl (49kB)\n",
            "\u001b[K     |████████████████████████████████| 51kB 4.3MB/s \n",
            "\u001b[?25hRequirement already satisfied: docopt>=0.6.2 in /usr/local/lib/python3.7/dist-packages (from pyannote.metrics) (0.6.2)\n",
            "Requirement already satisfied: matplotlib>=2.0.0 in /usr/local/lib/python3.7/dist-packages (from pyannote.metrics) (3.2.2)\n",
            "Requirement already satisfied: scikit-learn>=0.17.1 in /usr/local/lib/python3.7/dist-packages (from pyannote.metrics) (0.22.2.post1)\n",
            "Collecting pyannote.database>=4.0.1\n",
            "\u001b[?25l  Downloading https://files.pythonhosted.org/packages/21/a8/349bb61047bfd2cd11ce25e725044b55fe2e85d10b112df51364c4fb92ad/pyannote.database-4.0.4-py3-none-any.whl (41kB)\n",
            "\u001b[K     |████████████████████████████████| 51kB 7.1MB/s \n",
            "\u001b[?25hRequirement already satisfied: pyannote.core>=4.1 in /usr/local/lib/python3.7/dist-packages (from pyannote.metrics) (4.1)\n",
            "Requirement already satisfied: scipy>=1.1.0 in /usr/local/lib/python3.7/dist-packages (from pyannote.metrics) (1.4.1)\n",
            "Requirement already satisfied: tabulate>=0.7.7 in /usr/local/lib/python3.7/dist-packages (from pyannote.metrics) (0.8.9)\n",
            "Requirement already satisfied: pandas>=0.19 in /usr/local/lib/python3.7/dist-packages (from pyannote.metrics) (1.1.5)\n",
            "Requirement already satisfied: sympy>=1.1 in /usr/local/lib/python3.7/dist-packages (from pyannote.metrics) (1.7.1)\n",
            "Requirement already satisfied: pyparsing!=2.0.4,!=2.1.2,!=2.1.6,>=2.0.1 in /usr/local/lib/python3.7/dist-packages (from matplotlib>=2.0.0->pyannote.metrics) (2.4.7)\n",
            "Requirement already satisfied: python-dateutil>=2.1 in /usr/local/lib/python3.7/dist-packages (from matplotlib>=2.0.0->pyannote.metrics) (2.8.1)\n",
            "Requirement already satisfied: cycler>=0.10 in /usr/local/lib/python3.7/dist-packages (from matplotlib>=2.0.0->pyannote.metrics) (0.10.0)\n",
            "Requirement already satisfied: kiwisolver>=1.0.1 in /usr/local/lib/python3.7/dist-packages (from matplotlib>=2.0.0->pyannote.metrics) (1.3.1)\n",
            "Requirement already satisfied: numpy>=1.11 in /usr/local/lib/python3.7/dist-packages (from matplotlib>=2.0.0->pyannote.metrics) (1.19.5)\n",
            "Requirement already satisfied: joblib>=0.11 in /usr/local/lib/python3.7/dist-packages (from scikit-learn>=0.17.1->pyannote.metrics) (1.0.1)\n",
            "Collecting typer[all]>=0.2.1\n",
            "  Downloading https://files.pythonhosted.org/packages/90/34/d138832f6945432c638f32137e6c79a3b682f06a63c488dcfaca6b166c64/typer-0.3.2-py3-none-any.whl\n",
            "Requirement already satisfied: typing-extensions>=3.7.4; python_version < \"3.8\" in /usr/local/lib/python3.7/dist-packages (from pyannote.database>=4.0.1->pyannote.metrics) (3.7.4.3)\n",
            "Requirement already satisfied: pyYAML>=3.12 in /usr/local/lib/python3.7/dist-packages (from pyannote.database>=4.0.1->pyannote.metrics) (3.13)\n",
            "Requirement already satisfied: sortedcontainers>=2.0.4 in /usr/local/lib/python3.7/dist-packages (from pyannote.core>=4.1->pyannote.metrics) (2.3.0)\n",
            "Requirement already satisfied: simplejson>=3.8.1 in /usr/local/lib/python3.7/dist-packages (from pyannote.core>=4.1->pyannote.metrics) (3.17.2)\n",
            "Requirement already satisfied: pytz>=2017.2 in /usr/local/lib/python3.7/dist-packages (from pandas>=0.19->pyannote.metrics) (2018.9)\n",
            "Requirement already satisfied: mpmath>=0.19 in /usr/local/lib/python3.7/dist-packages (from sympy>=1.1->pyannote.metrics) (1.2.1)\n",
            "Requirement already satisfied: six>=1.5 in /usr/local/lib/python3.7/dist-packages (from python-dateutil>=2.1->matplotlib>=2.0.0->pyannote.metrics) (1.15.0)\n",
            "Requirement already satisfied: click<7.2.0,>=7.1.1 in /usr/local/lib/python3.7/dist-packages (from typer[all]>=0.2.1->pyannote.database>=4.0.1->pyannote.metrics) (7.1.2)\n",
            "Collecting shellingham<2.0.0,>=1.3.0; extra == \"all\"\n",
            "  Downloading https://files.pythonhosted.org/packages/76/94/7a764d57d0f46534e0022e651da6547bc5cfe7b6372e7e0ed1dde6f5cb67/shellingham-1.4.0-py2.py3-none-any.whl\n",
            "Collecting colorama<0.5.0,>=0.4.3; extra == \"all\"\n",
            "  Downloading https://files.pythonhosted.org/packages/44/98/5b86278fbbf250d239ae0ecb724f8572af1c91f4a11edf4d36a206189440/colorama-0.4.4-py2.py3-none-any.whl\n",
            "Installing collected packages: shellingham, colorama, typer, pyannote.database, pyannote.metrics\n",
            "Successfully installed colorama-0.4.4 pyannote.database-4.0.4 pyannote.metrics-3.0.1 shellingham-1.4.0 typer-0.3.2\n"
          ],
          "name": "stdout"
        },
        {
          "output_type": "display_data",
          "data": {
            "application/vnd.colab-display-data+json": {
              "pip_warning": {
                "packages": [
                  "pyannote"
                ]
              }
            }
          },
          "metadata": {
            "tags": []
          }
        }
      ]
    },
    {
      "cell_type": "code",
      "metadata": {
        "colab": {
          "base_uri": "https://localhost:8080/"
        },
        "id": "nii1O_xGdAi-",
        "outputId": "1c58512e-7770-401f-c7e6-a6efc44a7093"
      },
      "source": [
        "!pip install pyannote.core"
      ],
      "execution_count": null,
      "outputs": [
        {
          "output_type": "stream",
          "text": [
            "Collecting pyannote.core\n",
            "\u001b[?25l  Downloading https://files.pythonhosted.org/packages/ba/09/64e64cedccf764be513405d1ff3d3d2bbcbea60d18fb6a6d9e815aedcd79/pyannote.core-4.1-py3-none-any.whl (56kB)\n",
            "\u001b[K     |████████████████████████████████| 61kB 5.0MB/s \n",
            "\u001b[?25hRequirement already satisfied: sortedcontainers>=2.0.4 in /usr/local/lib/python3.7/dist-packages (from pyannote.core) (2.3.0)\n",
            "Requirement already satisfied: scipy>=1.1 in /usr/local/lib/python3.7/dist-packages (from pyannote.core) (1.4.1)\n",
            "Requirement already satisfied: typing-extensions>=3.7.4.1 in /usr/local/lib/python3.7/dist-packages (from pyannote.core) (3.7.4.3)\n",
            "Requirement already satisfied: numpy>=1.10.4 in /usr/local/lib/python3.7/dist-packages (from pyannote.core) (1.19.5)\n",
            "Requirement already satisfied: pandas>=0.17.1 in /usr/local/lib/python3.7/dist-packages (from pyannote.core) (1.1.5)\n",
            "Requirement already satisfied: matplotlib>=2.0.0 in /usr/local/lib/python3.7/dist-packages (from pyannote.core) (3.2.2)\n",
            "Collecting simplejson>=3.8.1\n",
            "\u001b[?25l  Downloading https://files.pythonhosted.org/packages/a8/04/377418ac1e530ce2a196b54c6552c018fdf1fe776718053efb1f216bffcd/simplejson-3.17.2-cp37-cp37m-manylinux2010_x86_64.whl (128kB)\n",
            "\u001b[K     |████████████████████████████████| 133kB 10.9MB/s \n",
            "\u001b[?25hRequirement already satisfied: pytz>=2017.2 in /usr/local/lib/python3.7/dist-packages (from pandas>=0.17.1->pyannote.core) (2018.9)\n",
            "Requirement already satisfied: python-dateutil>=2.7.3 in /usr/local/lib/python3.7/dist-packages (from pandas>=0.17.1->pyannote.core) (2.8.1)\n",
            "Requirement already satisfied: pyparsing!=2.0.4,!=2.1.2,!=2.1.6,>=2.0.1 in /usr/local/lib/python3.7/dist-packages (from matplotlib>=2.0.0->pyannote.core) (2.4.7)\n",
            "Requirement already satisfied: kiwisolver>=1.0.1 in /usr/local/lib/python3.7/dist-packages (from matplotlib>=2.0.0->pyannote.core) (1.3.1)\n",
            "Requirement already satisfied: cycler>=0.10 in /usr/local/lib/python3.7/dist-packages (from matplotlib>=2.0.0->pyannote.core) (0.10.0)\n",
            "Requirement already satisfied: six>=1.5 in /usr/local/lib/python3.7/dist-packages (from python-dateutil>=2.7.3->pandas>=0.17.1->pyannote.core) (1.15.0)\n",
            "Installing collected packages: simplejson, pyannote.core\n",
            "Successfully installed pyannote.core-4.1 simplejson-3.17.2\n"
          ],
          "name": "stdout"
        }
      ]
    },
    {
      "cell_type": "code",
      "metadata": {
        "id": "uh4y1FfAc4zS"
      },
      "source": [
        "from pyannote.core import Annotation, Segment\n"
      ],
      "execution_count": null,
      "outputs": []
    },
    {
      "cell_type": "markdown",
      "metadata": {
        "id": "ZvoRQ9XnqK2Y"
      },
      "source": [
        "## Loading the data "
      ]
    },
    {
      "cell_type": "code",
      "metadata": {
        "id": "u9giB0bVonb8"
      },
      "source": [
        "X = np.load('./mel_save_16speaker.npy') # mfcc features of dimension 20\n",
        "y = np.load('./mel_labels_16speaker.npy') # true speaker labels of those feature vector"
      ],
      "execution_count": null,
      "outputs": []
    },
    {
      "cell_type": "code",
      "metadata": {
        "id": "upWIH4NqQlpm"
      },
      "source": [
        "X_test_us = np.load('./mel_save_test.npy') # mfcc features of dimension 20\n",
        "y_test_us = np.load('./mel_labels_test.npy') # true speaker labels of those feature vector"
      ],
      "execution_count": null,
      "outputs": []
    },
    {
      "cell_type": "code",
      "metadata": {
        "id": "zgvOTm9-YaNa"
      },
      "source": [
        "time_stamp_us = np.load('./timestamps_save.npy') # true speaker labels of those feature vector"
      ],
      "execution_count": null,
      "outputs": []
    },
    {
      "cell_type": "code",
      "metadata": {
        "colab": {
          "base_uri": "https://localhost:8080/"
        },
        "id": "bSb865ShYm1p",
        "outputId": "3dc63ce2-9af4-46ae-f99c-a08690ba6e4d"
      },
      "source": [
        "time_stamp_us"
      ],
      "execution_count": null,
      "outputs": [
        {
          "output_type": "execute_result",
          "data": {
            "text/plain": [
              "array([[  58.424,   64.993],\n",
              "       [  59.424,   60.424],\n",
              "       [  60.424,   61.424],\n",
              "       ...,\n",
              "       [1864.608, 1865.608],\n",
              "       [1865.608, 1866.608],\n",
              "       [1866.608, 1867.608]])"
            ]
          },
          "metadata": {
            "tags": []
          },
          "execution_count": 100
        }
      ]
    },
    {
      "cell_type": "code",
      "metadata": {
        "colab": {
          "base_uri": "https://localhost:8080/"
        },
        "id": "z9-1eNcFdQR5",
        "outputId": "fe19fb8c-1c9d-4ccd-b9a5-cd6841eca447"
      },
      "source": [
        "time_stamp_us.shape"
      ],
      "execution_count": null,
      "outputs": [
        {
          "output_type": "execute_result",
          "data": {
            "text/plain": [
              "(1574, 2)"
            ]
          },
          "metadata": {
            "tags": []
          },
          "execution_count": 106
        }
      ]
    },
    {
      "cell_type": "code",
      "metadata": {
        "colab": {
          "base_uri": "https://localhost:8080/",
          "height": 189
        },
        "id": "T_qlBxjfdIJq",
        "outputId": "760e4b31-b4d7-4ba5-b365-87dbb2558800"
      },
      "source": [
        "reference = Annotation()\n",
        "speaker_dict_true={1:'A', 2:'B', 3:'C', 4:'D'}\n",
        "for i in range(time_stamp_us.shape[0]):\n",
        "  reference[Segment(time_stamp_us[i][0], time_stamp_us[i][1])]= speaker_dict_true[y_test_us[i]]\n",
        "reference"
      ],
      "execution_count": null,
      "outputs": [
        {
          "output_type": "execute_result",
          "data": {
            "image/png": "[encoded data removed]",
            "text/plain": [
              "<pyannote.core.annotation.Annotation at 0x7fcd25eff710>"
            ]
          },
          "metadata": {
            "tags": []
          },
          "execution_count": 110
        }
      ]
    },
    {
      "cell_type": "code",
      "metadata": {
        "colab": {
          "base_uri": "https://localhost:8080/",
          "height": 189
        },
        "id": "rIb1bzN3d-Cg",
        "outputId": "d0fe9a45-793e-4224-9ded-f1f9f6c03a76"
      },
      "source": [
        "hypothesis = Annotation()\n",
        "speaker_dict_hypo={0:'a', 1:'b', 2:'c', 3:'d'}\n",
        "for i in range(time_stamp_us.shape[0]):\n",
        "  hypothesis[Segment(time_stamp_us[i][0], time_stamp_us[i][1])]= speaker_dict_hypo[y_test_pred_kmean[i]]\n",
        "hypothesis"
      ],
      "execution_count": null,
      "outputs": [
        {
          "output_type": "execute_result",
          "data": {
            "image/png": "[encoded data removed]",
            "text/plain": [
              "<pyannote.core.annotation.Annotation at 0x7fcc841e4b10>"
            ]
          },
          "metadata": {
            "tags": []
          },
          "execution_count": 117
        }
      ]
    },
    {
      "cell_type": "code",
      "metadata": {
        "colab": {
          "base_uri": "https://localhost:8080/"
        },
        "id": "KQyu-BgUgzVI",
        "outputId": "7d7583a9-f663-4201-9ccb-fc101a78cca1"
      },
      "source": [
        "from pyannote.metrics.diarization import DiarizationErrorRate\n",
        "diarizationErrorRate = DiarizationErrorRate()\n",
        "print(\"DER = {0:.3f}\".format(diarizationErrorRate(reference, hypothesis, uem=Segment(0, 2000))))"
      ],
      "execution_count": null,
      "outputs": [
        {
          "output_type": "stream",
          "text": [
            "DER = 0.296\n"
          ],
          "name": "stdout"
        }
      ]
    },
    {
      "cell_type": "code",
      "metadata": {
        "colab": {
          "base_uri": "https://localhost:8080/"
        },
        "id": "830IR5QDiK65",
        "outputId": "0e177f80-7ad7-41fc-c7db-05bca7249013"
      },
      "source": [
        "diarizationErrorRate.optimal_mapping(reference, hypothesis)\n"
      ],
      "execution_count": null,
      "outputs": [
        {
          "output_type": "execute_result",
          "data": {
            "text/plain": [
              "{'a': 'A', 'b': 'D', 'c': 'B', 'd': 'C'}"
            ]
          },
          "metadata": {
            "tags": []
          },
          "execution_count": 122
        }
      ]
    },
    {
      "cell_type": "code",
      "metadata": {
        "colab": {
          "base_uri": "https://localhost:8080/"
        },
        "id": "ZtLgWN1NiOHo",
        "outputId": "943e222e-f6fd-49d3-c576-4cd0b4adf632"
      },
      "source": [
        "diarizationErrorRate(reference, hypothesis, detailed=True, uem=Segment(0, 40))\n"
      ],
      "execution_count": null,
      "outputs": [
        {
          "output_type": "execute_result",
          "data": {
            "text/plain": [
              "{'confusion': 1.0,\n",
              " 'correct': 2.806000000000001,\n",
              " 'diarization error rate': 0.2627430373095112,\n",
              " 'false alarm': 0.0,\n",
              " 'missed detection': 0.0,\n",
              " 'total': 3.806000000000001}"
            ]
          },
          "metadata": {
            "tags": []
          },
          "execution_count": 123
        }
      ]
    },
    {
      "cell_type": "code",
      "metadata": {
        "id": "mApoxx5oQ6Ys"
      },
      "source": [
        "test_dataset_us = tf.data.Dataset.from_tensor_slices((X_test_us, y_test_us))\n",
        "test_dataset_us= test_dataset_us.batch(32)\n",
        "test_dataset_us = test_dataset_us.map(_map_sound)"
      ],
      "execution_count": null,
      "outputs": []
    },
    {
      "cell_type": "code",
      "metadata": {
        "colab": {
          "base_uri": "https://localhost:8080/"
        },
        "id": "12OCmcxEQ6RP",
        "outputId": "8dfcec12-3489-4548-d256-54c79d5cf68c"
      },
      "source": [
        "X_test_us.shape"
      ],
      "execution_count": null,
      "outputs": [
        {
          "output_type": "execute_result",
          "data": {
            "text/plain": [
              "(1574, 44, 20)"
            ]
          },
          "metadata": {
            "tags": []
          },
          "execution_count": 56
        }
      ]
    },
    {
      "cell_type": "code",
      "metadata": {
        "id": "AHCFoZMIonb9",
        "colab": {
          "base_uri": "https://localhost:8080/"
        },
        "outputId": "cf52d119-6352-4da8-dc60-21f240a5ef9d"
      },
      "source": [
        "print(X.shape)\n",
        "print(y.shape)"
      ],
      "execution_count": null,
      "outputs": [
        {
          "output_type": "stream",
          "text": [
            "(5913, 44, 20)\n",
            "(5913,)\n"
          ],
          "name": "stdout"
        }
      ]
    },
    {
      "cell_type": "code",
      "metadata": {
        "id": "CKBI5ghgonb-"
      },
      "source": [
        "X_train, X_test, y_train, y_test = train_test_split(X, y, test_size=0.2, shuffle=True)"
      ],
      "execution_count": null,
      "outputs": []
    },
    {
      "cell_type": "code",
      "metadata": {
        "id": "2SGindVFvvdR"
      },
      "source": [
        "def _map_sound(img, label):\n",
        "    return (img, label)\n",
        "train_dataset = tf.data.Dataset.from_tensor_slices((X_train, y_train))\n",
        "train_dataset= train_dataset.batch(32)\n",
        "train_dataset = train_dataset.map(_map_sound)\n",
        "test_dataset = tf.data.Dataset.from_tensor_slices((X_test, y_test))\n",
        "test_dataset= test_dataset.batch(32)\n",
        "test_dataset = test_dataset.map(_map_sound)"
      ],
      "execution_count": null,
      "outputs": []
    },
    {
      "cell_type": "code",
      "metadata": {
        "colab": {
          "base_uri": "https://localhost:8080/"
        },
        "id": "emN2y5Z0w29u",
        "outputId": "c3752bfe-d98d-4812-8da7-cc41bb6ed19c"
      },
      "source": [
        "print((train_dataset))"
      ],
      "execution_count": null,
      "outputs": [
        {
          "output_type": "stream",
          "text": [
            "<MapDataset shapes: ((None, 44, 20), (None,)), types: (tf.float32, tf.int64)>\n"
          ],
          "name": "stdout"
        }
      ]
    },
    {
      "cell_type": "markdown",
      "metadata": {
        "id": "CJWKw998rdCT"
      },
      "source": [
        "## Model Archtitecture and training"
      ]
    },
    {
      "cell_type": "code",
      "metadata": {
        "id": "z5UXJEZIonb_"
      },
      "source": [
        "model = keras.Sequential()\n",
        "\n",
        "model.add(layers.LSTM(768,  input_shape=(44,20), return_sequences=True))  # returns a sequence of vectors of dimension 768\n",
        "model.add(layers.LSTM(768,return_sequences=True))  # returns a sequence of vectors of dimension 768\n",
        "model.add(layers.LSTM(768))  # return a single vector of dimension 768\n",
        "model.add(layers.Dense(256, activation='tanh')) \n",
        "model.add(layers.Dropout(0.01))\n",
        "model.add(layers.Dense(256, activation=None))\n",
        "model.add(layers.Lambda(lambda x: tf.math.l2_normalize(x, axis=1))) # normalization for d vector embedding\n"
      ],
      "execution_count": null,
      "outputs": []
    },
    {
      "cell_type": "markdown",
      "metadata": {
        "id": "s_6oOWgEsGrs"
      },
      "source": [
        "The reason we normalize output of last layer is to use the advantage of using normalization is more or less the advantage of cosine similarity over Euclidean distance. \n",
        "\n",
        "[Source](https://stats.stackexchange.com/questions/248511/purpose-of-l2-normalization-for-triplet-network#:~:text=Triplet%2Dbased%20distance%20learning%20for%20face%20recognition%20seems%20very%20effective.&text=As%20part%20of%20finding%20an,to%20be%20on%20a%20hypersphere.)\n"
      ]
    },
    {
      "cell_type": "code",
      "metadata": {
        "colab": {
          "base_uri": "https://localhost:8080/"
        },
        "id": "Edz_Jadte_Yx",
        "outputId": "a20a3a56-3f08-4666-cc03-0c46165bf2ad"
      },
      "source": [
        "model.summary()"
      ],
      "execution_count": null,
      "outputs": [
        {
          "output_type": "stream",
          "text": [
            "Model: \"sequential_2\"\n",
            "_________________________________________________________________\n",
            "Layer (type)                 Output Shape              Param #   \n",
            "=================================================================\n",
            "lstm_6 (LSTM)                (None, 44, 768)           2423808   \n",
            "_________________________________________________________________\n",
            "lstm_7 (LSTM)                (None, 44, 768)           4721664   \n",
            "_________________________________________________________________\n",
            "lstm_8 (LSTM)                (None, 768)               4721664   \n",
            "_________________________________________________________________\n",
            "dense_4 (Dense)              (None, 256)               196864    \n",
            "_________________________________________________________________\n",
            "dropout_2 (Dropout)          (None, 256)               0         \n",
            "_________________________________________________________________\n",
            "dense_5 (Dense)              (None, 256)               65792     \n",
            "_________________________________________________________________\n",
            "lambda_2 (Lambda)            (None, 256)               0         \n",
            "=================================================================\n",
            "Total params: 12,129,792\n",
            "Trainable params: 12,129,792\n",
            "Non-trainable params: 0\n",
            "_________________________________________________________________\n"
          ],
          "name": "stdout"
        }
      ]
    },
    {
      "cell_type": "code",
      "metadata": {
        "id": "8jFUBe0loncB"
      },
      "source": [
        "model.compile(\n",
        "    optimizer=tf.keras.optimizers.Adam(0.0001),        # Using Adam Optimizer\n",
        "    loss=tfa.losses.TripletHardLoss())                 # Use Triplet Hard Loss for making same speaker embeddings similar\n",
        "# another alternative is to use triplet semi hard loss"
      ],
      "execution_count": null,
      "outputs": []
    },
    {
      "cell_type": "code",
      "metadata": {
        "colab": {
          "base_uri": "https://localhost:8080/"
        },
        "id": "PpIYhuuNoncC",
        "outputId": "7524f31e-0378-411e-8d69-df1afee30c1f"
      },
      "source": [
        "history = model.fit(train_dataset,epochs=70, validation_data=test_dataset)  # Training"
      ],
      "execution_count": null,
      "outputs": [
        {
          "output_type": "stream",
          "text": [
            "Epoch 1/70\n",
            "148/148 [==============================] - 11s 55ms/step - loss: 1.0263 - val_loss: 1.0088\n",
            "Epoch 2/70\n",
            "148/148 [==============================] - 7s 50ms/step - loss: 1.0083 - val_loss: 1.0068\n",
            "Epoch 3/70\n",
            "148/148 [==============================] - 7s 50ms/step - loss: 1.0048 - val_loss: 1.0062\n",
            "Epoch 4/70\n",
            "148/148 [==============================] - 7s 50ms/step - loss: 1.0030 - val_loss: 1.0053\n",
            "Epoch 5/70\n",
            "148/148 [==============================] - 8s 51ms/step - loss: 1.0017 - val_loss: 1.0053\n",
            "Epoch 6/70\n",
            "148/148 [==============================] - 8s 52ms/step - loss: 1.0011 - val_loss: 1.0088\n",
            "Epoch 7/70\n",
            "148/148 [==============================] - 8s 53ms/step - loss: 1.0058 - val_loss: 1.0076\n",
            "Epoch 8/70\n",
            "148/148 [==============================] - 8s 53ms/step - loss: 1.0006 - val_loss: 1.0092\n",
            "Epoch 9/70\n",
            "148/148 [==============================] - 8s 52ms/step - loss: 1.0063 - val_loss: 1.0244\n",
            "Epoch 10/70\n",
            "148/148 [==============================] - 8s 52ms/step - loss: 1.0007 - val_loss: 1.0344\n",
            "Epoch 11/70\n",
            "148/148 [==============================] - 8s 51ms/step - loss: 1.0078 - val_loss: 1.1145\n",
            "Epoch 12/70\n",
            "148/148 [==============================] - 8s 51ms/step - loss: 1.0120 - val_loss: 1.1696\n",
            "Epoch 13/70\n",
            "148/148 [==============================] - 8s 51ms/step - loss: 1.0169 - val_loss: 1.1119\n",
            "Epoch 14/70\n",
            "148/148 [==============================] - 8s 51ms/step - loss: 1.0031 - val_loss: 1.1182\n",
            "Epoch 15/70\n",
            "148/148 [==============================] - 8s 52ms/step - loss: 0.9908 - val_loss: 1.0779\n",
            "Epoch 16/70\n",
            "148/148 [==============================] - 8s 52ms/step - loss: 0.9443 - val_loss: 1.1073\n",
            "Epoch 17/70\n",
            "148/148 [==============================] - 8s 52ms/step - loss: 0.8813 - val_loss: 1.0127\n",
            "Epoch 18/70\n",
            "148/148 [==============================] - 8s 52ms/step - loss: 0.7703 - val_loss: 0.9429\n",
            "Epoch 19/70\n",
            "148/148 [==============================] - 8s 51ms/step - loss: 0.6976 - val_loss: 0.9361\n",
            "Epoch 20/70\n",
            "148/148 [==============================] - 8s 51ms/step - loss: 0.6292 - val_loss: 0.9093\n",
            "Epoch 21/70\n",
            "148/148 [==============================] - 8s 51ms/step - loss: 0.5402 - val_loss: 0.9324\n",
            "Epoch 22/70\n",
            "148/148 [==============================] - 8s 51ms/step - loss: 0.5339 - val_loss: 0.9194\n",
            "Epoch 23/70\n",
            "148/148 [==============================] - 8s 51ms/step - loss: 0.4570 - val_loss: 0.8257\n",
            "Epoch 24/70\n",
            "148/148 [==============================] - 7s 51ms/step - loss: 0.3492 - val_loss: 0.8360\n",
            "Epoch 25/70\n",
            "148/148 [==============================] - 8s 51ms/step - loss: 0.3408 - val_loss: 0.8580\n",
            "Epoch 26/70\n",
            "148/148 [==============================] - 7s 51ms/step - loss: 0.3066 - val_loss: 0.8680\n",
            "Epoch 27/70\n",
            "148/148 [==============================] - 7s 51ms/step - loss: 0.2964 - val_loss: 0.8725\n",
            "Epoch 28/70\n",
            "148/148 [==============================] - 8s 51ms/step - loss: 0.2683 - val_loss: 0.8508\n",
            "Epoch 29/70\n",
            "148/148 [==============================] - 8s 51ms/step - loss: 0.2291 - val_loss: 0.8669\n",
            "Epoch 30/70\n",
            "148/148 [==============================] - 8s 51ms/step - loss: 0.2396 - val_loss: 0.8381\n",
            "Epoch 31/70\n",
            "148/148 [==============================] - 8s 51ms/step - loss: 0.1882 - val_loss: 0.8564\n",
            "Epoch 32/70\n",
            "148/148 [==============================] - 7s 51ms/step - loss: 0.1853 - val_loss: 0.8493\n",
            "Epoch 33/70\n",
            "148/148 [==============================] - 7s 50ms/step - loss: 0.1888 - val_loss: 0.8842\n",
            "Epoch 34/70\n",
            "148/148 [==============================] - 7s 50ms/step - loss: 0.1991 - val_loss: 0.8603\n",
            "Epoch 35/70\n",
            "148/148 [==============================] - 7s 50ms/step - loss: 0.1787 - val_loss: 0.8885\n",
            "Epoch 36/70\n",
            "148/148 [==============================] - 7s 50ms/step - loss: 0.1573 - val_loss: 0.8557\n",
            "Epoch 37/70\n",
            "148/148 [==============================] - 7s 50ms/step - loss: 0.1231 - val_loss: 0.8965\n",
            "Epoch 38/70\n",
            "148/148 [==============================] - 7s 50ms/step - loss: 0.1154 - val_loss: 0.8271\n",
            "Epoch 39/70\n",
            "148/148 [==============================] - 7s 50ms/step - loss: 0.1074 - val_loss: 0.8413\n",
            "Epoch 40/70\n",
            "148/148 [==============================] - 7s 50ms/step - loss: 0.1083 - val_loss: 0.8723\n",
            "Epoch 41/70\n",
            "148/148 [==============================] - 7s 50ms/step - loss: 0.1123 - val_loss: 0.9074\n",
            "Epoch 42/70\n",
            "148/148 [==============================] - 7s 50ms/step - loss: 0.1101 - val_loss: 0.8430\n",
            "Epoch 43/70\n",
            "148/148 [==============================] - 7s 50ms/step - loss: 0.1049 - val_loss: 0.8540\n",
            "Epoch 44/70\n",
            "148/148 [==============================] - 7s 50ms/step - loss: 0.1127 - val_loss: 0.8467\n",
            "Epoch 45/70\n",
            "148/148 [==============================] - 7s 50ms/step - loss: 0.1003 - val_loss: 0.8507\n",
            "Epoch 46/70\n",
            "148/148 [==============================] - 7s 51ms/step - loss: 0.1176 - val_loss: 0.8668\n",
            "Epoch 47/70\n",
            "148/148 [==============================] - 7s 50ms/step - loss: 0.1112 - val_loss: 0.9254\n",
            "Epoch 48/70\n",
            "148/148 [==============================] - 7s 51ms/step - loss: 0.1086 - val_loss: 0.8778\n",
            "Epoch 49/70\n",
            "148/148 [==============================] - 7s 50ms/step - loss: 0.0944 - val_loss: 0.8389\n",
            "Epoch 50/70\n",
            "148/148 [==============================] - 7s 50ms/step - loss: 0.0706 - val_loss: 0.8760\n",
            "Epoch 51/70\n",
            "148/148 [==============================] - 7s 50ms/step - loss: 0.0747 - val_loss: 0.8342\n",
            "Epoch 52/70\n",
            "148/148 [==============================] - 7s 50ms/step - loss: 0.0648 - val_loss: 0.8622\n",
            "Epoch 53/70\n",
            "148/148 [==============================] - 7s 50ms/step - loss: 0.0947 - val_loss: 0.8777\n",
            "Epoch 54/70\n",
            "148/148 [==============================] - 7s 50ms/step - loss: 0.0894 - val_loss: 0.8453\n",
            "Epoch 55/70\n",
            "148/148 [==============================] - 7s 50ms/step - loss: 0.0976 - val_loss: 0.8359\n",
            "Epoch 56/70\n",
            "148/148 [==============================] - 7s 49ms/step - loss: 0.0506 - val_loss: 0.8521\n",
            "Epoch 57/70\n",
            "148/148 [==============================] - 7s 50ms/step - loss: 0.0488 - val_loss: 0.8529\n",
            "Epoch 58/70\n",
            "148/148 [==============================] - 7s 50ms/step - loss: 0.0472 - val_loss: 0.8485\n",
            "Epoch 59/70\n",
            "148/148 [==============================] - 7s 50ms/step - loss: 0.0534 - val_loss: 0.8751\n",
            "Epoch 60/70\n",
            "148/148 [==============================] - 7s 50ms/step - loss: 0.0661 - val_loss: 0.8790\n",
            "Epoch 61/70\n",
            "148/148 [==============================] - 7s 50ms/step - loss: 0.0644 - val_loss: 0.9139\n",
            "Epoch 62/70\n",
            "148/148 [==============================] - 7s 50ms/step - loss: 0.0603 - val_loss: 0.8693\n",
            "Epoch 63/70\n",
            "148/148 [==============================] - 7s 50ms/step - loss: 0.0477 - val_loss: 0.8442\n",
            "Epoch 64/70\n",
            "148/148 [==============================] - 7s 50ms/step - loss: 0.0439 - val_loss: 0.9130\n",
            "Epoch 65/70\n",
            "148/148 [==============================] - 7s 50ms/step - loss: 0.0448 - val_loss: 0.8571\n",
            "Epoch 66/70\n",
            "148/148 [==============================] - 7s 50ms/step - loss: 0.0462 - val_loss: 0.8662\n",
            "Epoch 67/70\n",
            "148/148 [==============================] - 7s 50ms/step - loss: 0.0693 - val_loss: 0.8789\n",
            "Epoch 68/70\n",
            "148/148 [==============================] - 7s 50ms/step - loss: 0.0731 - val_loss: 0.8286\n",
            "Epoch 69/70\n",
            "148/148 [==============================] - 7s 50ms/step - loss: 0.0447 - val_loss: 0.8246\n",
            "Epoch 70/70\n",
            "148/148 [==============================] - 7s 50ms/step - loss: 0.0522 - val_loss: 0.8639\n"
          ],
          "name": "stdout"
        }
      ]
    },
    {
      "cell_type": "code",
      "metadata": {
        "colab": {
          "base_uri": "https://localhost:8080/",
          "height": 295
        },
        "id": "p3B4CXnMoudh",
        "outputId": "38ff82d8-0183-4ed5-894f-b71f6451c840"
      },
      "source": [
        "plt.plot(history.history['loss'])                            # Plotting the train and validation loss accross epochs to analyze performance change\n",
        "plt.plot(history.history['val_loss'])\n",
        "plt.title('Model Loss')\n",
        "plt.ylabel('loss')\n",
        "plt.xlabel('number of epoch')\n",
        "plt.legend(['train', 'val'], loc='upper right')\n",
        "plt.show()"
      ],
      "execution_count": null,
      "outputs": [
        {
          "output_type": "display_data",
          "data": {
            "image/png": "[encoded data removed]",
            "text/plain": [
              "<Figure size 432x288 with 1 Axes>"
            ]
          },
          "metadata": {
            "tags": [],
            "needs_background": "light"
          }
        }
      ]
    },
    {
      "cell_type": "code",
      "metadata": {
        "id": "lMX2bZIorOfF"
      },
      "source": [
        "model.save('lstm_d-vector_model_16_tshl.h5') # saving the model"
      ],
      "execution_count": null,
      "outputs": []
    },
    {
      "cell_type": "code",
      "metadata": {
        "id": "NDVOUfdzwOCT",
        "colab": {
          "base_uri": "https://localhost:8080/"
        },
        "outputId": "f73200f9-734f-45fc-f524-dd44cd78e76d"
      },
      "source": [
        "test_dataset_us"
      ],
      "execution_count": null,
      "outputs": [
        {
          "output_type": "execute_result",
          "data": {
            "text/plain": [
              "<MapDataset shapes: ((None, 44, 20), (None,)), types: (tf.float32, tf.int64)>"
            ]
          },
          "metadata": {
            "tags": []
          },
          "execution_count": 84
        }
      ]
    },
    {
      "cell_type": "code",
      "metadata": {
        "id": "P4EqJw9KwdIl",
        "colab": {
          "base_uri": "https://localhost:8080/"
        },
        "outputId": "527831dd-1ba7-496a-aa68-408f1859ebdc"
      },
      "source": [
        "test_d_vector_embedding = model.predict(test_dataset_us)\n",
        "train_d_vector_embedding = model.predict(train_dataset)\n",
        "\n",
        "print(\"test_d-vector_embedding: \", test_d_vector_embedding.shape)\n",
        "print(\"train_d-vector_embedding \", train_d_vector_embedding.shape )"
      ],
      "execution_count": null,
      "outputs": [
        {
          "output_type": "stream",
          "text": [
            "test_d-vector_embedding:  (1574, 256)\n",
            "train_d-vector_embedding  (4730, 256)\n"
          ],
          "name": "stdout"
        }
      ]
    },
    {
      "cell_type": "markdown",
      "metadata": {
        "id": "YQ-OmaKDuKJk"
      },
      "source": [
        "Converting high-dimensional data**(i.e. 256 dimension)** to low-dimensional data space**(i.e. 2 dimnension)**\n"
      ]
    },
    {
      "cell_type": "code",
      "metadata": {
        "id": "geiL-4ORZB6G"
      },
      "source": [
        "from sklearn.manifold import TSNE\n",
        "train_2d_embedding = TSNE(n_components=2).fit_transform(train_d_vector_embedding)    # Applying dimentiality reduction to convert embedding into 2D for plotting\n",
        "test_2d_embedding = TSNE(n_components=2).fit_transform(test_d_vector_embedding)"
      ],
      "execution_count": null,
      "outputs": []
    },
    {
      "cell_type": "code",
      "metadata": {
        "colab": {
          "base_uri": "https://localhost:8080/"
        },
        "id": "4lRMXHMKwatI",
        "outputId": "ee2101fc-e5b0-4b71-e234-c0b3845fde59"
      },
      "source": [
        "print(\"test_2d_embedding: \", test_2d_embedding.shape)\n",
        "print(\"train_2d_embedding \", train_2d_embedding.shape )"
      ],
      "execution_count": null,
      "outputs": [
        {
          "output_type": "stream",
          "text": [
            "test_2d_embedding:  (1574, 2)\n",
            "train_2d_embedding  (4730, 2)\n"
          ],
          "name": "stdout"
        }
      ]
    },
    {
      "cell_type": "code",
      "metadata": {
        "id": "XPEF_Ephc24d"
      },
      "source": [
        "a=[]\n",
        "b=[]\n",
        "colors = ['black','red','green','blue','yellow','purple', 'orange', 'violet', 'indigo', 'pink', 'beige','brown','grey', 'gold', 'magenta','white', 'red', 'orange']\n",
        "color_list = []\n",
        "for i in range(train_2d_embedding.shape[0]):\n",
        "  a.append(train_2d_embedding[i][0])\n",
        "  color_list.append(colors[y_train[i]])\n",
        "for i in range(train_2d_embedding.shape[0]):\n",
        "  b.append(train_2d_embedding[i][1])"
      ],
      "execution_count": null,
      "outputs": []
    },
    {
      "cell_type": "code",
      "metadata": {
        "colab": {
          "base_uri": "https://localhost:8080/",
          "height": 281
        },
        "id": "VBQUywHpb6Mq",
        "outputId": "3c6a0d34-fca8-4a5a-c6c4-dfe5699e64ff"
      },
      "source": [
        "import matplotlib.pyplot as plt\n",
        "plt.scatter(a,b,color = color_list)\n",
        "plt.title('train d-vector plot')          # Plotting the training data's true labels\n",
        "plt.show()"
      ],
      "execution_count": null,
      "outputs": [
        {
          "output_type": "display_data",
          "data": {
            "image/png": "[encoded data removed]",
            "text/plain": [
              "<Figure size 432x288 with 1 Axes>"
            ]
          },
          "metadata": {
            "tags": [],
            "needs_background": "light"
          }
        }
      ]
    },
    {
      "cell_type": "code",
      "metadata": {
        "id": "ux8eIJyfw-e6"
      },
      "source": [
        "a=[]\n",
        "b=[]\n",
        "colors = ['black','red','green','blue','yellow','purple', 'orange', 'violet', 'indigo', 'pink', 'beige','brown','grey', 'gold', 'magenta','white', 'red', 'orange']\n",
        "color_list = []\n",
        "for i in range(test_2d_embedding.shape[0]):\n",
        "  a.append(test_2d_embedding[i][0])\n",
        "  color_list.append(colors[y_test_us[i]])\n",
        "for i in range(test_2d_embedding.shape[0]):\n",
        "  b.append(test_2d_embedding[i][1])"
      ],
      "execution_count": null,
      "outputs": []
    },
    {
      "cell_type": "code",
      "metadata": {
        "colab": {
          "base_uri": "https://localhost:8080/",
          "height": 281
        },
        "id": "6pr2warjxHNy",
        "outputId": "c2156079-ff53-4686-8323-e74ccc045fbf"
      },
      "source": [
        "import matplotlib.pyplot as plt\n",
        "plt.scatter(a,b,color = color_list)\n",
        "plt.title('test d-vector plot')                 # Plotting the testing data's true labels\n",
        "plt.show()"
      ],
      "execution_count": null,
      "outputs": [
        {
          "output_type": "display_data",
          "data": {
            "image/png": "[encoded data removed]",
            "text/plain": [
              "<Figure size 432x288 with 1 Axes>"
            ]
          },
          "metadata": {
            "tags": [],
            "needs_background": "light"
          }
        }
      ]
    },
    {
      "cell_type": "markdown",
      "metadata": {
        "id": "drtFqUcAxdwm"
      },
      "source": [
        "# Clustering Methods\n",
        "Here we will use the following Traditional Clustering Methods on d vector embeddings for speaker distinction. This shall set the benchmark for GANMM\n",
        "\n",
        "\n",
        "\n",
        "1.   Kmeans\n",
        "2.   Spectral Clustering\n",
        "\n",
        "1.   GMM Clustering\n",
        "\n",
        "\n",
        "\n",
        "\n",
        "\n"
      ]
    },
    {
      "cell_type": "markdown",
      "metadata": {
        "id": "LpAfQwtIxzZu"
      },
      "source": [
        "**Kmeans**"
      ]
    },
    {
      "cell_type": "code",
      "metadata": {
        "id": "dpezv7Xeq52N"
      },
      "source": [
        "from sklearn.cluster import KMeans"
      ],
      "execution_count": null,
      "outputs": []
    },
    {
      "cell_type": "code",
      "metadata": {
        "colab": {
          "base_uri": "https://localhost:8080/",
          "height": 279
        },
        "id": "JMG6FpEsyrOO",
        "outputId": "f71d4c38-b226-47c3-a681-8ecc0ac83021"
      },
      "source": [
        "cost =[]\n",
        "for i in range(1, 11):\n",
        "    KM = KMeans(n_clusters = i, max_iter = 500)\n",
        "    KM.fit(test_d_vector_embedding)\n",
        "\n",
        "    # calculates squared error\n",
        "    # for the clustered points\n",
        "    cost.append(KM.inertia_)     \n",
        "  \n",
        "# plot the cost against K values\n",
        "plt.plot(range(1, 11), cost, color ='g', linewidth ='3')\n",
        "plt.xlabel(\"Value of K\")\n",
        "plt.ylabel(\"Sqaured Error (Cost)\")\n",
        "plt.show() # clear the plot"
      ],
      "execution_count": null,
      "outputs": [
        {
          "output_type": "display_data",
          "data": {
            "image/png": "[encoded data removed]",
            "text/plain": [
              "<Figure size 432x288 with 1 Axes>"
            ]
          },
          "metadata": {
            "tags": [],
            "needs_background": "light"
          }
        }
      ]
    },
    {
      "cell_type": "markdown",
      "metadata": {
        "id": "t8Esqz4XzQL_"
      },
      "source": [
        "**Elbow method to determine K**\n",
        "\n",
        "Since the elbow is forming at K=8. So the optimal value will be 8 for performing K-Means."
      ]
    },
    {
      "cell_type": "code",
      "metadata": {
        "id": "-3lv7DJezPN0"
      },
      "source": [
        "KM = KMeans(n_clusters = 4, max_iter = 500)           # Applying K-means on test data\n",
        "KM.fit(test_d_vector_embedding)\n",
        "y_test_pred_kmean = KM.labels_"
      ],
      "execution_count": null,
      "outputs": []
    },
    {
      "cell_type": "code",
      "metadata": {
        "id": "JNgSdAz2zcAD"
      },
      "source": [
        "a=[]\n",
        "b=[]\n",
        "colors = ['black','red','green','blue','yellow','purple', 'orange', 'violet', 'indigo']\n",
        "color_list = []\n",
        "for i in range(test_2d_embedding.shape[0]):\n",
        "  a.append(test_2d_embedding[i][0])\n",
        "  color_list.append(colors[y_test_pred_kmean[i]])\n",
        "for i in range(test_2d_embedding.shape[0]):\n",
        "  b.append(test_2d_embedding[i][1])"
      ],
      "execution_count": null,
      "outputs": []
    },
    {
      "cell_type": "code",
      "metadata": {
        "colab": {
          "base_uri": "https://localhost:8080/",
          "height": 281
        },
        "id": "qMwXUxo4zqPR",
        "outputId": "ad03929c-b530-4763-ae90-d5eee1bb4136"
      },
      "source": [
        "import matplotlib.pyplot as plt\n",
        "plt.scatter(a,b,color = color_list)\n",
        "plt.title('kmeans clustering d-vector plot')      # Plotting the testing data's K-means predicted labels \n",
        "plt.show()"
      ],
      "execution_count": null,
      "outputs": [
        {
          "output_type": "display_data",
          "data": {
            "image/png": "[encoded data removed]",
            "text/plain": [
              "<Figure size 432x288 with 1 Axes>"
            ]
          },
          "metadata": {
            "tags": [],
            "needs_background": "light"
          }
        }
      ]
    },
    {
      "cell_type": "code",
      "metadata": {
        "id": "4R0f6YqtYSu1"
      },
      "source": [
        ""
      ],
      "execution_count": null,
      "outputs": []
    },
    {
      "cell_type": "markdown",
      "metadata": {
        "id": "nxUQ-F_y5tAN"
      },
      "source": [
        "**Spectral clustering**"
      ]
    },
    {
      "cell_type": "code",
      "metadata": {
        "id": "gqX1waXkbC6F"
      },
      "source": [
        "from spectralcluster import SpectralClusterer\n",
        "\n",
        "clusterer = SpectralClusterer(              # Applying Specral Clustering on test data\n",
        "    min_clusters=4,\n",
        "    max_clusters=20,\n",
        "    p_percentile=0.90,\n",
        "    gaussian_blur_sigma=0)\n",
        "\n",
        "y_test_pred_spectral = clusterer.predict(test_d_vector_embedding)"
      ],
      "execution_count": null,
      "outputs": []
    },
    {
      "cell_type": "code",
      "metadata": {
        "id": "F_tSamIXiwI7"
      },
      "source": [
        "a=[]\n",
        "b=[]\n",
        "colors = ['black','red','green','blue','yellow','purple', 'orange', 'violet', 'indigo']\n",
        "color_list = []\n",
        "for i in range(test_2d_embedding.shape[0]):\n",
        "  a.append(test_2d_embedding[i][0])\n",
        "  color_list.append(colors[y_test_pred_spectral[i]])\n",
        "for i in range(test_2d_embedding.shape[0]):\n",
        "  b.append(test_2d_embedding[i][1])"
      ],
      "execution_count": null,
      "outputs": []
    },
    {
      "cell_type": "code",
      "metadata": {
        "colab": {
          "base_uri": "https://localhost:8080/",
          "height": 281
        },
        "id": "-R-jnYkN7em7",
        "outputId": "3aa5a7fe-a3a5-4730-b7c9-4b8304a000f5"
      },
      "source": [
        "import matplotlib.pyplot as plt\n",
        "plt.scatter(a,b,color = color_list)\n",
        "plt.title('spectral clustering d-vector plot')                   # Plotting the testing data's spectral clustering's predicted labels\n",
        "plt.show()"
      ],
      "execution_count": null,
      "outputs": [
        {
          "output_type": "display_data",
          "data": {
            "image/png": "[encoded data removed]",
            "text/plain": [
              "<Figure size 432x288 with 1 Axes>"
            ]
          },
          "metadata": {
            "tags": [],
            "needs_background": "light"
          }
        }
      ]
    },
    {
      "cell_type": "markdown",
      "metadata": {
        "id": "CI9BaS898OPG"
      },
      "source": [
        "**GMM**\n",
        "\n",
        "An important clustering method to understand generative method based clustering which will be our main goal in future work!! By using GANs"
      ]
    },
    {
      "cell_type": "code",
      "metadata": {
        "id": "c72eFcVU8gm-"
      },
      "source": [
        "from sklearn.mixture import GaussianMixture"
      ],
      "execution_count": null,
      "outputs": []
    },
    {
      "cell_type": "code",
      "metadata": {
        "colab": {
          "base_uri": "https://localhost:8080/",
          "height": 280
        },
        "id": "1lBaCz6L-U7U",
        "outputId": "6cc567ca-1689-4ef8-eaeb-78d69f2cf666"
      },
      "source": [
        "cost =[]\n",
        "for i in range(1, 13):\n",
        "    GMM = GaussianMixture(n_components=i, random_state=0).fit(test_d_vector_embedding)\n",
        "\n",
        "    # calculates squared error\n",
        "    # for the clustered points\n",
        "    cost.append(GMM.lower_bound_)     \n",
        "  \n",
        "# plot the cost against K values\n",
        "plt.plot(range(1, 13), cost, color ='g', linewidth ='3')\n",
        "plt.xlabel(\"Value of n_components\")\n",
        "plt.ylabel(\"likelihood\")\n",
        "plt.show() # clear the plot"
      ],
      "execution_count": null,
      "outputs": [
        {
          "output_type": "display_data",
          "data": {
            "image/png": "[encoded data removed]",
            "text/plain": [
              "<Figure size 432x288 with 1 Axes>"
            ]
          },
          "metadata": {
            "tags": [],
            "needs_background": "light"
          }
        }
      ]
    },
    {
      "cell_type": "markdown",
      "metadata": {
        "id": "E6yI2DQlApRx"
      },
      "source": [
        "See: [link ](https://stats.stackexchange.com/questions/32400/optimal-number-of-components-in-a-gaussian-mixture ), \n",
        "for more information about choosing optimal n_components in GMM."
      ]
    },
    {
      "cell_type": "code",
      "metadata": {
        "id": "42vZ25qbAC_7"
      },
      "source": [
        "GMM = GaussianMixture(n_components=8, random_state=0).fit(test_d_vector_embedding)      # Applying GMM on test data\n",
        "y_test_pred_GMM = GMM.predict(test_d_vector_embedding)"
      ],
      "execution_count": null,
      "outputs": []
    },
    {
      "cell_type": "code",
      "metadata": {
        "id": "cpq1jmidBzqA"
      },
      "source": [
        "a=[]\n",
        "b=[]\n",
        "colors = ['black','red','green','blue','yellow','purple', 'orange', 'violet', 'indigo']\n",
        "color_list = []\n",
        "for i in range(test_2d_embedding.shape[0]):\n",
        "  a.append(test_2d_embedding[i][0])\n",
        "  color_list.append(colors[y_test_pred_GMM[i]])\n",
        "for i in range(test_2d_embedding.shape[0]):\n",
        "  b.append(test_2d_embedding[i][1])"
      ],
      "execution_count": null,
      "outputs": []
    },
    {
      "cell_type": "code",
      "metadata": {
        "colab": {
          "base_uri": "https://localhost:8080/",
          "height": 281
        },
        "id": "pLIjWYM0BTuO",
        "outputId": "be6d290b-98c5-4c8e-8f0f-04eb9ec6fb07"
      },
      "source": [
        "import matplotlib.pyplot as plt\n",
        "plt.scatter(a,b,color = color_list)\n",
        "plt.title('kmeans clustering d-vector plot')                   # Plotting the testing data's GMM's predicted labels\n",
        "plt.show()"
      ],
      "execution_count": null,
      "outputs": [
        {
          "output_type": "display_data",
          "data": {
            "image/png": "[encoded data removed]",
            "text/plain": [
              "<Figure size 432x288 with 1 Axes>"
            ]
          },
          "metadata": {
            "tags": [],
            "needs_background": "light"
          }
        }
      ]
    }
  ]
}