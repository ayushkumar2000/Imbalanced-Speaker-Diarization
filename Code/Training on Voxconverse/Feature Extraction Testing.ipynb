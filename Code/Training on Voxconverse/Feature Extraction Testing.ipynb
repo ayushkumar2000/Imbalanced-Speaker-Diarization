{
 "cells": [
  {
   "cell_type": "markdown",
   "metadata": {},
   "source": [
    "# Feature Extraction for Testing\n",
    "Here we will we extracting MFCC features from the Testing audio files of VoxConverse Dataset. For getting the audio part, we will be using a VAD of the file \"VAD_library.ipynb\". On the audio part detected, we will be partioning it into segments of 1sec and collecting the MFCC features of the same."
   ]
  },
  {
   "cell_type": "code",
   "execution_count": 1,
   "metadata": {},
   "outputs": [],
   "source": [
    "import os      # Importing Libraries\n",
    "import sys\n",
    "import librosa\n",
    "import numpy as np\n",
    "from VAD_library import vad"
   ]
  },
  {
   "cell_type": "code",
   "execution_count": 7,
   "metadata": {},
   "outputs": [],
   "source": [
    "audio_len = 1.0\n",
    "testing_folder = '../Data/Audio_Dataset/Testing/'\n",
    "transcripts_folder = '../Data/Audio_Dataset/Transcripts/'"
   ]
  },
  {
   "cell_type": "code",
   "execution_count": 8,
   "metadata": {},
   "outputs": [],
   "source": [
    "def print_progress(done,total):          #For displaying the progress bar while preprocessing audio files\n",
    "    x = int(done*50.0/total)\n",
    "    sys.stdout.write('['+str('='*x)+'>'+str('-'*(50-x))+']  '+str(done)+'/'+str(total)+'\\r')\n",
    "    sys.stdout.flush()\n",
    "\n",
    "def progress(entity):\n",
    "    print_progress(0,len(entity))\n",
    "    i = 0\n",
    "    for ent in entity:\n",
    "        yield ent\n",
    "        i+=1\n",
    "        print_progress(i,len(entity))\n",
    "    sys.stdout.write(\"\\n\")\n",
    "    sys.stdout.flush()"
   ]
  },
  {
   "cell_type": "code",
   "execution_count": 17,
   "metadata": {},
   "outputs": [],
   "source": [
    "def get_mfcc_test(audio_folder, transcript_folder, audio_len):\n",
    "    files = os.listdir(audio_folder)\n",
    "    file_number = 0\n",
    "    for file in files:\n",
    "        file_number+=1\n",
    "        print(\"Processing File: \"+str(file_number)+\"/\"+str(len(files))+\"  (\"+file+\")\")\n",
    "        mfcc_store = []\n",
    "        est_timestamps = []\n",
    "        true_timestamps = []\n",
    "        true_labels = []\n",
    "        \n",
    "        _,segments,_ = vad(audio_folder+file)\n",
    "        \n",
    "        for segment in progress(segments):\n",
    "            if segment['is_speech']==True:\n",
    "                start = segment['start']\n",
    "                end = segment['finish']\n",
    "                while start+audio_len<=end:\n",
    "                    audio,sr = librosa.load(audio_folder+file,sr = 16000,offset = start, duration = audio_len)\n",
    "                    mfcc = librosa.feature.mfcc(y = audio, sr = sr, n_mfcc=40)  # Getting MFCC\n",
    "                    mfcc = mfcc.T\n",
    "                    mfcc_store.append(mfcc)\n",
    "                    est_timestamps.append([start,start+audio_len])\n",
    "                    start+=audio_len\n",
    "        \n",
    "        \n",
    "        transcript_file = transcript_folder+file.split('.')[0]+'.rttm'\n",
    "        log = open(transcript_file,'r')\n",
    "        log = log.readlines()\n",
    "        speaker_dict = {}\n",
    "        for line in log:\n",
    "            words = line.split()\n",
    "            speaker = words[7]\n",
    "            if speaker not in speaker_dict.keys():\n",
    "                speaker_dict[speaker] = len(speaker_dict)+1\n",
    "            start = float(words[3])\n",
    "            duration = float(words[4])\n",
    "            end = start+duration\n",
    "            true_labels.append(speaker_dict[speaker])\n",
    "            true_timestamps.append([start,end])\n",
    "            \n",
    "        np.save('../Data/MFCC_Features/Testing/Testing MFCC/test_mfcc_'+file,mfcc_store)\n",
    "        np.save('../Data/MFCC_Features/Testing/Testing Est Timestamps/est_timestamps_'+file,est_timestamps)\n",
    "        np.save('../Data/MFCC_Features/Testing/Testing True Timestamps/true_timestamps_'+file,true_timestamps)\n",
    "        np.save('../Data/MFCC_Features/Testing/Testing True Labels/true_labels_'+file,true_labels)"
   ]
  },
  {
   "cell_type": "code",
   "execution_count": 18,
   "metadata": {},
   "outputs": [
    {
     "name": "stdout",
     "output_type": "stream",
     "text": [
      "Processing File: 1/36  (xmfzh.wav)\n",
      "[==================================================>]  9/9\n",
      "Processing File: 2/36  (xypdm.wav)\n",
      "[==================================================>]  62/62\n",
      "Processing File: 3/36  (wmori.wav)\n",
      "[==================================================>]  8/8\n",
      "Processing File: 4/36  (whmpa.wav)\n",
      "[==================================================>]  2/2\n",
      "Processing File: 5/36  (zvmyn.wav)\n",
      "[==================================================>]  9/9\n",
      "Processing File: 6/36  (ycxxe.wav)\n",
      "[==================================================>]  5/5\n",
      "Processing File: 7/36  (xvllq.wav)\n",
      "[==================================================>]  15/15\n",
      "Processing File: 8/36  (vbjlx.wav)\n",
      "[==================================================>]  2/2\n",
      "Processing File: 9/36  (zyffh.wav)\n",
      "[==================================================>]  3/3\n",
      "Processing File: 10/36  (ysgbf.wav)\n",
      "[==================================================>]  15/15\n",
      "Processing File: 11/36  (zrlyl.wav)\n",
      "[==================================================>]  29/29\n",
      "Processing File: 12/36  (wdjyj.wav)\n",
      "[==================================================>]  5/5\n",
      "Processing File: 13/36  (zfkap.wav)\n",
      "[==================================================>]  7/7\n",
      "Processing File: 14/36  (zajzs.wav)\n",
      "[==================================================>]  1/1\n",
      "Processing File: 15/36  (wspbh.wav)\n",
      "[==================================================>]  15/15\n",
      "Processing File: 16/36  (ylnza.wav)\n",
      "[==================================================>]  7/7\n",
      "Processing File: 17/36  (wewoz.wav)\n",
      "[==================================================>]  1/1\n",
      "Processing File: 18/36  (wjhgf.wav)\n",
      "[==================================================>]  2/2\n",
      "Processing File: 19/36  (willh.wav)\n",
      "[==================================================>]  3/3\n",
      "Processing File: 20/36  (ypwjd.wav)\n",
      "[==================================================>]  6/6\n",
      "Processing File: 21/36  (ydlfw.wav)\n",
      "[==================================================>]  3/3\n",
      "Processing File: 22/36  (wbqza.wav)\n",
      "[==================================================>]  31/31\n",
      "Processing File: 23/36  (yrsve.wav)\n",
      "[==================================================>]  3/3\n",
      "Processing File: 24/36  (vmbga.wav)\n",
      "[==================================================>]  19/19\n",
      "Processing File: 25/36  (yfcmz.wav)\n",
      "[==================================================>]  5/5\n",
      "Processing File: 26/36  (zcdsd.wav)\n",
      "[==================================================>]  1/1\n",
      "Processing File: 27/36  (zmndm.wav)\n",
      "[==================================================>]  3/3\n",
      "Processing File: 28/36  (vysqj.wav)\n",
      "[==================================================>]  2/2\n",
      "Processing File: 29/36  (zidwg.wav)\n",
      "[==================================================>]  1/1\n",
      "Processing File: 30/36  (ywcwr.wav)\n",
      "[==================================================>]  3/3\n",
      "Processing File: 31/36  (ztzzr.wav)\n",
      "[==================================================>]  28/28\n",
      "Processing File: 32/36  (xxwgv.wav)\n",
      "[==================================================>]  10/10\n",
      "Processing File: 33/36  (wnfoi.wav)\n",
      "[==================================================>]  7/7\n",
      "Processing File: 34/36  (yuzyu.wav)\n",
      "[==================================================>]  6/6\n",
      "Processing File: 35/36  (xiglo.wav)\n",
      "[==================================================>]  9/9\n",
      "Processing File: 36/36  (vmaiq.wav)\n",
      "[==================================================>]  14/14\n"
     ]
    }
   ],
   "source": [
    "get_mfcc_test(testing_folder,transcripts_folder,audio_len)"
   ]
  },
  {
   "cell_type": "code",
   "execution_count": 22,
   "metadata": {},
   "outputs": [],
   "source": [
    "a = np.load('../Data/MFCC_Features/Testing/Testing True Labels/true_labels_ywcwr.wav.npy')"
   ]
  }
 ],
 "metadata": {
  "kernelspec": {
   "display_name": "Python 3",
   "language": "python",
   "name": "python3"
  },
  "language_info": {
   "codemirror_mode": {
    "name": "ipython",
    "version": 3
   },
   "file_extension": ".py",
   "mimetype": "text/x-python",
   "name": "python",
   "nbconvert_exporter": "python",
   "pygments_lexer": "ipython3",
   "version": "3.8.5"
  }
 },
 "nbformat": 4,
 "nbformat_minor": 4
}
